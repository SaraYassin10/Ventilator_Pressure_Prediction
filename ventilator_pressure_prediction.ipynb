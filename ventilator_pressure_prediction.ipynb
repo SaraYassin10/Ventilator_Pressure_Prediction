{
  "metadata": {
    "kernelspec": {
      "language": "python",
      "display_name": "Python 3",
      "name": "python3"
    },
    "language_info": {
      "pygments_lexer": "ipython3",
      "nbconvert_exporter": "python",
      "version": "3.6.4",
      "file_extension": ".py",
      "codemirror_mode": {
        "name": "ipython",
        "version": 3
      },
      "name": "python",
      "mimetype": "text/x-python"
    },
    "colab": {
      "provenance": []
    }
  },
  "nbformat_minor": 0,
  "nbformat": 4,
  "cells": [
    {
      "cell_type": "markdown",
      "source": [
        "### Importing Libraries"
      ],
      "metadata": {
        "id": "lzjaitBQr-Mm"
      }
    },
    {
      "cell_type": "code",
      "source": [
        "import numpy as np\n",
        "import pandas as pd\n",
        "from matplotlib import pyplot\n",
        "import math\n",
        "from keras import callbacks\n",
        "from keras.models import Sequential\n",
        "from keras.layers import Dense\n",
        "from keras.layers import LSTM\n",
        "from sklearn.preprocessing import MinMaxScaler\n",
        "from sklearn.metrics import mean_absolute_error\n",
        "from sklearn.model_selection import train_test_split\n",
        "from sklearn.preprocessing import RobustScaler\n",
        "from tensorflow.keras.utils import plot_model"
      ],
      "metadata": {
        "execution": {
          "iopub.status.busy": "2021-11-01T06:40:36.802142Z",
          "iopub.execute_input": "2021-11-01T06:40:36.80281Z",
          "iopub.status.idle": "2021-11-01T06:40:37.145904Z",
          "shell.execute_reply.started": "2021-11-01T06:40:36.802771Z",
          "shell.execute_reply": "2021-11-01T06:40:37.145289Z"
        },
        "trusted": true,
        "id": "obY4f3RFr-Mq"
      },
      "execution_count": null,
      "outputs": []
    },
    {
      "cell_type": "markdown",
      "source": [
        "### Importing Data"
      ],
      "metadata": {
        "id": "YRuIh2pqr-Mt"
      }
    },
    {
      "cell_type": "code",
      "source": [
        "train = pd.read_csv(\"/content/drive/MyDrive/train.csv\")\n",
        "test = pd.read_csv(\"/content/drive/MyDrive/test.csv\")\n",
        "id = test['id']\n",
        "train = train.drop(columns=['id'])\n",
        "test = test.drop(columns=['id'])\n",
        "train.head()"
      ],
      "metadata": {
        "execution": {
          "iopub.status.busy": "2021-11-01T06:15:47.571723Z",
          "iopub.execute_input": "2021-11-01T06:15:47.572038Z",
          "iopub.status.idle": "2021-11-01T06:16:01.050687Z",
          "shell.execute_reply.started": "2021-11-01T06:15:47.571983Z",
          "shell.execute_reply": "2021-11-01T06:16:01.049841Z"
        },
        "trusted": true,
        "colab": {
          "base_uri": "https://localhost:8080/",
          "height": 206
        },
        "id": "1vmK1Ynhr-Mt",
        "outputId": "9f8a4492-9ed8-4037-ec51-0b35c0ce3246"
      },
      "execution_count": null,
      "outputs": [
        {
          "output_type": "execute_result",
          "data": {
            "text/plain": [
              "   breath_id   R   C  time_step       u_in  u_out   pressure\n",
              "0          1  20  50   0.000000   0.083334      0   5.837492\n",
              "1          1  20  50   0.033652  18.383041      0   5.907794\n",
              "2          1  20  50   0.067514  22.509278      0   7.876254\n",
              "3          1  20  50   0.101542  22.808822      0  11.742872\n",
              "4          1  20  50   0.135756  25.355850      0  12.234987"
            ],
            "text/html": [
              "\n",
              "  <div id=\"df-0f9e16cf-4fe8-495a-8328-0bf56a54947a\">\n",
              "    <div class=\"colab-df-container\">\n",
              "      <div>\n",
              "<style scoped>\n",
              "    .dataframe tbody tr th:only-of-type {\n",
              "        vertical-align: middle;\n",
              "    }\n",
              "\n",
              "    .dataframe tbody tr th {\n",
              "        vertical-align: top;\n",
              "    }\n",
              "\n",
              "    .dataframe thead th {\n",
              "        text-align: right;\n",
              "    }\n",
              "</style>\n",
              "<table border=\"1\" class=\"dataframe\">\n",
              "  <thead>\n",
              "    <tr style=\"text-align: right;\">\n",
              "      <th></th>\n",
              "      <th>breath_id</th>\n",
              "      <th>R</th>\n",
              "      <th>C</th>\n",
              "      <th>time_step</th>\n",
              "      <th>u_in</th>\n",
              "      <th>u_out</th>\n",
              "      <th>pressure</th>\n",
              "    </tr>\n",
              "  </thead>\n",
              "  <tbody>\n",
              "    <tr>\n",
              "      <th>0</th>\n",
              "      <td>1</td>\n",
              "      <td>20</td>\n",
              "      <td>50</td>\n",
              "      <td>0.000000</td>\n",
              "      <td>0.083334</td>\n",
              "      <td>0</td>\n",
              "      <td>5.837492</td>\n",
              "    </tr>\n",
              "    <tr>\n",
              "      <th>1</th>\n",
              "      <td>1</td>\n",
              "      <td>20</td>\n",
              "      <td>50</td>\n",
              "      <td>0.033652</td>\n",
              "      <td>18.383041</td>\n",
              "      <td>0</td>\n",
              "      <td>5.907794</td>\n",
              "    </tr>\n",
              "    <tr>\n",
              "      <th>2</th>\n",
              "      <td>1</td>\n",
              "      <td>20</td>\n",
              "      <td>50</td>\n",
              "      <td>0.067514</td>\n",
              "      <td>22.509278</td>\n",
              "      <td>0</td>\n",
              "      <td>7.876254</td>\n",
              "    </tr>\n",
              "    <tr>\n",
              "      <th>3</th>\n",
              "      <td>1</td>\n",
              "      <td>20</td>\n",
              "      <td>50</td>\n",
              "      <td>0.101542</td>\n",
              "      <td>22.808822</td>\n",
              "      <td>0</td>\n",
              "      <td>11.742872</td>\n",
              "    </tr>\n",
              "    <tr>\n",
              "      <th>4</th>\n",
              "      <td>1</td>\n",
              "      <td>20</td>\n",
              "      <td>50</td>\n",
              "      <td>0.135756</td>\n",
              "      <td>25.355850</td>\n",
              "      <td>0</td>\n",
              "      <td>12.234987</td>\n",
              "    </tr>\n",
              "  </tbody>\n",
              "</table>\n",
              "</div>\n",
              "      <button class=\"colab-df-convert\" onclick=\"convertToInteractive('df-0f9e16cf-4fe8-495a-8328-0bf56a54947a')\"\n",
              "              title=\"Convert this dataframe to an interactive table.\"\n",
              "              style=\"display:none;\">\n",
              "        \n",
              "  <svg xmlns=\"http://www.w3.org/2000/svg\" height=\"24px\"viewBox=\"0 0 24 24\"\n",
              "       width=\"24px\">\n",
              "    <path d=\"M0 0h24v24H0V0z\" fill=\"none\"/>\n",
              "    <path d=\"M18.56 5.44l.94 2.06.94-2.06 2.06-.94-2.06-.94-.94-2.06-.94 2.06-2.06.94zm-11 1L8.5 8.5l.94-2.06 2.06-.94-2.06-.94L8.5 2.5l-.94 2.06-2.06.94zm10 10l.94 2.06.94-2.06 2.06-.94-2.06-.94-.94-2.06-.94 2.06-2.06.94z\"/><path d=\"M17.41 7.96l-1.37-1.37c-.4-.4-.92-.59-1.43-.59-.52 0-1.04.2-1.43.59L10.3 9.45l-7.72 7.72c-.78.78-.78 2.05 0 2.83L4 21.41c.39.39.9.59 1.41.59.51 0 1.02-.2 1.41-.59l7.78-7.78 2.81-2.81c.8-.78.8-2.07 0-2.86zM5.41 20L4 18.59l7.72-7.72 1.47 1.35L5.41 20z\"/>\n",
              "  </svg>\n",
              "      </button>\n",
              "      \n",
              "  <style>\n",
              "    .colab-df-container {\n",
              "      display:flex;\n",
              "      flex-wrap:wrap;\n",
              "      gap: 12px;\n",
              "    }\n",
              "\n",
              "    .colab-df-convert {\n",
              "      background-color: #E8F0FE;\n",
              "      border: none;\n",
              "      border-radius: 50%;\n",
              "      cursor: pointer;\n",
              "      display: none;\n",
              "      fill: #1967D2;\n",
              "      height: 32px;\n",
              "      padding: 0 0 0 0;\n",
              "      width: 32px;\n",
              "    }\n",
              "\n",
              "    .colab-df-convert:hover {\n",
              "      background-color: #E2EBFA;\n",
              "      box-shadow: 0px 1px 2px rgba(60, 64, 67, 0.3), 0px 1px 3px 1px rgba(60, 64, 67, 0.15);\n",
              "      fill: #174EA6;\n",
              "    }\n",
              "\n",
              "    [theme=dark] .colab-df-convert {\n",
              "      background-color: #3B4455;\n",
              "      fill: #D2E3FC;\n",
              "    }\n",
              "\n",
              "    [theme=dark] .colab-df-convert:hover {\n",
              "      background-color: #434B5C;\n",
              "      box-shadow: 0px 1px 3px 1px rgba(0, 0, 0, 0.15);\n",
              "      filter: drop-shadow(0px 1px 2px rgba(0, 0, 0, 0.3));\n",
              "      fill: #FFFFFF;\n",
              "    }\n",
              "  </style>\n",
              "\n",
              "      <script>\n",
              "        const buttonEl =\n",
              "          document.querySelector('#df-0f9e16cf-4fe8-495a-8328-0bf56a54947a button.colab-df-convert');\n",
              "        buttonEl.style.display =\n",
              "          google.colab.kernel.accessAllowed ? 'block' : 'none';\n",
              "\n",
              "        async function convertToInteractive(key) {\n",
              "          const element = document.querySelector('#df-0f9e16cf-4fe8-495a-8328-0bf56a54947a');\n",
              "          const dataTable =\n",
              "            await google.colab.kernel.invokeFunction('convertToInteractive',\n",
              "                                                     [key], {});\n",
              "          if (!dataTable) return;\n",
              "\n",
              "          const docLinkHtml = 'Like what you see? Visit the ' +\n",
              "            '<a target=\"_blank\" href=https://colab.research.google.com/notebooks/data_table.ipynb>data table notebook</a>'\n",
              "            + ' to learn more about interactive tables.';\n",
              "          element.innerHTML = '';\n",
              "          dataTable['output_type'] = 'display_data';\n",
              "          await google.colab.output.renderOutput(dataTable, element);\n",
              "          const docLink = document.createElement('div');\n",
              "          docLink.innerHTML = docLinkHtml;\n",
              "          element.appendChild(docLink);\n",
              "        }\n",
              "      </script>\n",
              "    </div>\n",
              "  </div>\n",
              "  "
            ]
          },
          "metadata": {},
          "execution_count": 2
        }
      ]
    },
    {
      "cell_type": "code",
      "source": [
        "from google.colab import drive\n",
        "drive.mount('/content/drive')"
      ],
      "metadata": {
        "colab": {
          "base_uri": "https://localhost:8080/"
        },
        "id": "RlivN7cjsMvc",
        "outputId": "468bd1ee-9c78-4c16-df7b-f4e0124a8a98"
      },
      "execution_count": null,
      "outputs": [
        {
          "output_type": "stream",
          "name": "stdout",
          "text": [
            "Drive already mounted at /content/drive; to attempt to forcibly remount, call drive.mount(\"/content/drive\", force_remount=True).\n"
          ]
        }
      ]
    },
    {
      "cell_type": "markdown",
      "source": [
        "### Checking for Features Datatype"
      ],
      "metadata": {
        "id": "v6OO_grKr-Mu"
      }
    },
    {
      "cell_type": "code",
      "source": [
        "def check(df):\n",
        "    categorical_data = []\n",
        "    numerical_data = []\n",
        "    for i in df.columns:\n",
        "        if df[i].value_counts().count() > 10:\n",
        "            numerical_data.append(i)\n",
        "        else:\n",
        "            categorical_data.append(i)\n",
        "    return([numerical_data,categorical_data])"
      ],
      "metadata": {
        "execution": {
          "iopub.status.busy": "2021-11-01T06:16:01.051939Z",
          "iopub.execute_input": "2021-11-01T06:16:01.052776Z",
          "iopub.status.idle": "2021-11-01T06:16:01.059009Z",
          "shell.execute_reply.started": "2021-11-01T06:16:01.052735Z",
          "shell.execute_reply": "2021-11-01T06:16:01.05822Z"
        },
        "trusted": true,
        "id": "7jJyTXL1r-Mu"
      },
      "execution_count": null,
      "outputs": []
    },
    {
      "cell_type": "code",
      "source": [
        "t = check(train)\n",
        "print(\"Numerical columns: \",t[0])\n",
        "print(\"Categorical columns: \",t[1])"
      ],
      "metadata": {
        "execution": {
          "iopub.status.busy": "2021-11-01T06:16:01.061234Z",
          "iopub.execute_input": "2021-11-01T06:16:01.061676Z",
          "iopub.status.idle": "2021-11-01T06:16:03.957033Z",
          "shell.execute_reply.started": "2021-11-01T06:16:01.061606Z",
          "shell.execute_reply": "2021-11-01T06:16:03.956171Z"
        },
        "trusted": true,
        "colab": {
          "base_uri": "https://localhost:8080/"
        },
        "id": "oqKzLeiFr-Mv",
        "outputId": "8f58b213-7202-47b7-8c9f-032bfdd57093"
      },
      "execution_count": null,
      "outputs": [
        {
          "output_type": "stream",
          "name": "stdout",
          "text": [
            "Numerical columns:  ['breath_id', 'time_step', 'u_in', 'pressure']\n",
            "Categorical columns:  ['R', 'C', 'u_out']\n"
          ]
        }
      ]
    },
    {
      "cell_type": "markdown",
      "source": [
        "### Removing Pressure Feature's Outliers"
      ],
      "metadata": {
        "id": "-Qve3MuGr-Mv"
      }
    },
    {
      "cell_type": "code",
      "source": [
        "train['pressure'] = np.where(train['pressure'] < 0, np.nan, train['pressure'])\n",
        "train = train.dropna()\n",
        "train.isnull().sum()"
      ],
      "metadata": {
        "execution": {
          "iopub.status.busy": "2021-11-01T06:16:03.958418Z",
          "iopub.execute_input": "2021-11-01T06:16:03.958744Z",
          "iopub.status.idle": "2021-11-01T06:16:04.478291Z",
          "shell.execute_reply.started": "2021-11-01T06:16:03.958703Z",
          "shell.execute_reply": "2021-11-01T06:16:04.47734Z"
        },
        "trusted": true,
        "colab": {
          "base_uri": "https://localhost:8080/"
        },
        "id": "ZxxHvSfRr-Mv",
        "outputId": "62d342df-a296-4d01-f2ed-f965b740e941"
      },
      "execution_count": null,
      "outputs": [
        {
          "output_type": "execute_result",
          "data": {
            "text/plain": [
              "breath_id    0\n",
              "R            0\n",
              "C            0\n",
              "time_step    0\n",
              "u_in         0\n",
              "u_out        0\n",
              "pressure     0\n",
              "dtype: int64"
            ]
          },
          "metadata": {},
          "execution_count": 6
        }
      ]
    },
    {
      "cell_type": "code",
      "source": [
        "x_train = train.iloc[:,0:6]\n",
        "y_train = train.iloc[:,6]"
      ],
      "metadata": {
        "execution": {
          "iopub.status.busy": "2021-11-01T06:16:04.479781Z",
          "iopub.execute_input": "2021-11-01T06:16:04.480098Z",
          "iopub.status.idle": "2021-11-01T06:16:04.586551Z",
          "shell.execute_reply.started": "2021-11-01T06:16:04.480055Z",
          "shell.execute_reply": "2021-11-01T06:16:04.585294Z"
        },
        "trusted": true,
        "id": "yvo5-jwXr-Mw"
      },
      "execution_count": null,
      "outputs": []
    },
    {
      "cell_type": "markdown",
      "source": [
        "### Editing Time Step"
      ],
      "metadata": {
        "id": "S5eUO_wAr-Mx"
      }
    },
    {
      "cell_type": "code",
      "source": [
        "x_train['time_step'] = pd.cut(x=x_train['time_step'], bins=[-0.99, 0.5, 1, 1.5, 2, 2.5, 3], labels=[0,1,2,3,4,5])\n",
        "x_train['time_step'] = x_train['time_step'].astype('int64')\n",
        "x_train.head()"
      ],
      "metadata": {
        "execution": {
          "iopub.status.busy": "2021-11-01T06:16:04.588071Z",
          "iopub.execute_input": "2021-11-01T06:16:04.58844Z",
          "iopub.status.idle": "2021-11-01T06:16:04.807342Z",
          "shell.execute_reply.started": "2021-11-01T06:16:04.588395Z",
          "shell.execute_reply": "2021-11-01T06:16:04.806443Z"
        },
        "trusted": true,
        "colab": {
          "base_uri": "https://localhost:8080/",
          "height": 206
        },
        "id": "6_1-pefbr-Mx",
        "outputId": "14571e03-b4c2-4897-acce-6c85efa0da74"
      },
      "execution_count": null,
      "outputs": [
        {
          "output_type": "execute_result",
          "data": {
            "text/plain": [
              "   breath_id   R   C  time_step       u_in  u_out\n",
              "0          1  20  50          0   0.083334      0\n",
              "1          1  20  50          0  18.383041      0\n",
              "2          1  20  50          0  22.509278      0\n",
              "3          1  20  50          0  22.808822      0\n",
              "4          1  20  50          0  25.355850      0"
            ],
            "text/html": [
              "\n",
              "  <div id=\"df-64ba374d-9c85-4b2e-aa6a-9fb35ea57664\">\n",
              "    <div class=\"colab-df-container\">\n",
              "      <div>\n",
              "<style scoped>\n",
              "    .dataframe tbody tr th:only-of-type {\n",
              "        vertical-align: middle;\n",
              "    }\n",
              "\n",
              "    .dataframe tbody tr th {\n",
              "        vertical-align: top;\n",
              "    }\n",
              "\n",
              "    .dataframe thead th {\n",
              "        text-align: right;\n",
              "    }\n",
              "</style>\n",
              "<table border=\"1\" class=\"dataframe\">\n",
              "  <thead>\n",
              "    <tr style=\"text-align: right;\">\n",
              "      <th></th>\n",
              "      <th>breath_id</th>\n",
              "      <th>R</th>\n",
              "      <th>C</th>\n",
              "      <th>time_step</th>\n",
              "      <th>u_in</th>\n",
              "      <th>u_out</th>\n",
              "    </tr>\n",
              "  </thead>\n",
              "  <tbody>\n",
              "    <tr>\n",
              "      <th>0</th>\n",
              "      <td>1</td>\n",
              "      <td>20</td>\n",
              "      <td>50</td>\n",
              "      <td>0</td>\n",
              "      <td>0.083334</td>\n",
              "      <td>0</td>\n",
              "    </tr>\n",
              "    <tr>\n",
              "      <th>1</th>\n",
              "      <td>1</td>\n",
              "      <td>20</td>\n",
              "      <td>50</td>\n",
              "      <td>0</td>\n",
              "      <td>18.383041</td>\n",
              "      <td>0</td>\n",
              "    </tr>\n",
              "    <tr>\n",
              "      <th>2</th>\n",
              "      <td>1</td>\n",
              "      <td>20</td>\n",
              "      <td>50</td>\n",
              "      <td>0</td>\n",
              "      <td>22.509278</td>\n",
              "      <td>0</td>\n",
              "    </tr>\n",
              "    <tr>\n",
              "      <th>3</th>\n",
              "      <td>1</td>\n",
              "      <td>20</td>\n",
              "      <td>50</td>\n",
              "      <td>0</td>\n",
              "      <td>22.808822</td>\n",
              "      <td>0</td>\n",
              "    </tr>\n",
              "    <tr>\n",
              "      <th>4</th>\n",
              "      <td>1</td>\n",
              "      <td>20</td>\n",
              "      <td>50</td>\n",
              "      <td>0</td>\n",
              "      <td>25.355850</td>\n",
              "      <td>0</td>\n",
              "    </tr>\n",
              "  </tbody>\n",
              "</table>\n",
              "</div>\n",
              "      <button class=\"colab-df-convert\" onclick=\"convertToInteractive('df-64ba374d-9c85-4b2e-aa6a-9fb35ea57664')\"\n",
              "              title=\"Convert this dataframe to an interactive table.\"\n",
              "              style=\"display:none;\">\n",
              "        \n",
              "  <svg xmlns=\"http://www.w3.org/2000/svg\" height=\"24px\"viewBox=\"0 0 24 24\"\n",
              "       width=\"24px\">\n",
              "    <path d=\"M0 0h24v24H0V0z\" fill=\"none\"/>\n",
              "    <path d=\"M18.56 5.44l.94 2.06.94-2.06 2.06-.94-2.06-.94-.94-2.06-.94 2.06-2.06.94zm-11 1L8.5 8.5l.94-2.06 2.06-.94-2.06-.94L8.5 2.5l-.94 2.06-2.06.94zm10 10l.94 2.06.94-2.06 2.06-.94-2.06-.94-.94-2.06-.94 2.06-2.06.94z\"/><path d=\"M17.41 7.96l-1.37-1.37c-.4-.4-.92-.59-1.43-.59-.52 0-1.04.2-1.43.59L10.3 9.45l-7.72 7.72c-.78.78-.78 2.05 0 2.83L4 21.41c.39.39.9.59 1.41.59.51 0 1.02-.2 1.41-.59l7.78-7.78 2.81-2.81c.8-.78.8-2.07 0-2.86zM5.41 20L4 18.59l7.72-7.72 1.47 1.35L5.41 20z\"/>\n",
              "  </svg>\n",
              "      </button>\n",
              "      \n",
              "  <style>\n",
              "    .colab-df-container {\n",
              "      display:flex;\n",
              "      flex-wrap:wrap;\n",
              "      gap: 12px;\n",
              "    }\n",
              "\n",
              "    .colab-df-convert {\n",
              "      background-color: #E8F0FE;\n",
              "      border: none;\n",
              "      border-radius: 50%;\n",
              "      cursor: pointer;\n",
              "      display: none;\n",
              "      fill: #1967D2;\n",
              "      height: 32px;\n",
              "      padding: 0 0 0 0;\n",
              "      width: 32px;\n",
              "    }\n",
              "\n",
              "    .colab-df-convert:hover {\n",
              "      background-color: #E2EBFA;\n",
              "      box-shadow: 0px 1px 2px rgba(60, 64, 67, 0.3), 0px 1px 3px 1px rgba(60, 64, 67, 0.15);\n",
              "      fill: #174EA6;\n",
              "    }\n",
              "\n",
              "    [theme=dark] .colab-df-convert {\n",
              "      background-color: #3B4455;\n",
              "      fill: #D2E3FC;\n",
              "    }\n",
              "\n",
              "    [theme=dark] .colab-df-convert:hover {\n",
              "      background-color: #434B5C;\n",
              "      box-shadow: 0px 1px 3px 1px rgba(0, 0, 0, 0.15);\n",
              "      filter: drop-shadow(0px 1px 2px rgba(0, 0, 0, 0.3));\n",
              "      fill: #FFFFFF;\n",
              "    }\n",
              "  </style>\n",
              "\n",
              "      <script>\n",
              "        const buttonEl =\n",
              "          document.querySelector('#df-64ba374d-9c85-4b2e-aa6a-9fb35ea57664 button.colab-df-convert');\n",
              "        buttonEl.style.display =\n",
              "          google.colab.kernel.accessAllowed ? 'block' : 'none';\n",
              "\n",
              "        async function convertToInteractive(key) {\n",
              "          const element = document.querySelector('#df-64ba374d-9c85-4b2e-aa6a-9fb35ea57664');\n",
              "          const dataTable =\n",
              "            await google.colab.kernel.invokeFunction('convertToInteractive',\n",
              "                                                     [key], {});\n",
              "          if (!dataTable) return;\n",
              "\n",
              "          const docLinkHtml = 'Like what you see? Visit the ' +\n",
              "            '<a target=\"_blank\" href=https://colab.research.google.com/notebooks/data_table.ipynb>data table notebook</a>'\n",
              "            + ' to learn more about interactive tables.';\n",
              "          element.innerHTML = '';\n",
              "          dataTable['output_type'] = 'display_data';\n",
              "          await google.colab.output.renderOutput(dataTable, element);\n",
              "          const docLink = document.createElement('div');\n",
              "          docLink.innerHTML = docLinkHtml;\n",
              "          element.appendChild(docLink);\n",
              "        }\n",
              "      </script>\n",
              "    </div>\n",
              "  </div>\n",
              "  "
            ]
          },
          "metadata": {},
          "execution_count": 8
        }
      ]
    },
    {
      "cell_type": "code",
      "source": [
        "test['time_step'] = pd.cut(x=test['time_step'], bins=[-0.99, 0.5, 1, 1.5, 2, 2.5, 3], labels=[0,1,2,3,4,5])\n",
        "test['time_step'] = test['time_step'].astype('int64')\n",
        "test.head()"
      ],
      "metadata": {
        "execution": {
          "iopub.status.busy": "2021-11-01T06:16:04.808607Z",
          "iopub.execute_input": "2021-11-01T06:16:04.808834Z",
          "iopub.status.idle": "2021-11-01T06:16:04.926223Z",
          "shell.execute_reply.started": "2021-11-01T06:16:04.808807Z",
          "shell.execute_reply": "2021-11-01T06:16:04.925641Z"
        },
        "trusted": true,
        "colab": {
          "base_uri": "https://localhost:8080/",
          "height": 206
        },
        "id": "qdctXabEr-My",
        "outputId": "88b9d4af-9e0b-4d4d-cb3e-359171f2a3de"
      },
      "execution_count": null,
      "outputs": [
        {
          "output_type": "execute_result",
          "data": {
            "text/plain": [
              "   breath_id  R   C  time_step       u_in  u_out\n",
              "0          0  5  20          0   0.000000      0\n",
              "1          0  5  20          0   7.515046      0\n",
              "2          0  5  20          0  14.651675      0\n",
              "3          0  5  20          0  21.230610      0\n",
              "4          0  5  20          0  26.320956      0"
            ],
            "text/html": [
              "\n",
              "  <div id=\"df-13b988ea-746d-47cf-9b73-6d2227898acc\">\n",
              "    <div class=\"colab-df-container\">\n",
              "      <div>\n",
              "<style scoped>\n",
              "    .dataframe tbody tr th:only-of-type {\n",
              "        vertical-align: middle;\n",
              "    }\n",
              "\n",
              "    .dataframe tbody tr th {\n",
              "        vertical-align: top;\n",
              "    }\n",
              "\n",
              "    .dataframe thead th {\n",
              "        text-align: right;\n",
              "    }\n",
              "</style>\n",
              "<table border=\"1\" class=\"dataframe\">\n",
              "  <thead>\n",
              "    <tr style=\"text-align: right;\">\n",
              "      <th></th>\n",
              "      <th>breath_id</th>\n",
              "      <th>R</th>\n",
              "      <th>C</th>\n",
              "      <th>time_step</th>\n",
              "      <th>u_in</th>\n",
              "      <th>u_out</th>\n",
              "    </tr>\n",
              "  </thead>\n",
              "  <tbody>\n",
              "    <tr>\n",
              "      <th>0</th>\n",
              "      <td>0</td>\n",
              "      <td>5</td>\n",
              "      <td>20</td>\n",
              "      <td>0</td>\n",
              "      <td>0.000000</td>\n",
              "      <td>0</td>\n",
              "    </tr>\n",
              "    <tr>\n",
              "      <th>1</th>\n",
              "      <td>0</td>\n",
              "      <td>5</td>\n",
              "      <td>20</td>\n",
              "      <td>0</td>\n",
              "      <td>7.515046</td>\n",
              "      <td>0</td>\n",
              "    </tr>\n",
              "    <tr>\n",
              "      <th>2</th>\n",
              "      <td>0</td>\n",
              "      <td>5</td>\n",
              "      <td>20</td>\n",
              "      <td>0</td>\n",
              "      <td>14.651675</td>\n",
              "      <td>0</td>\n",
              "    </tr>\n",
              "    <tr>\n",
              "      <th>3</th>\n",
              "      <td>0</td>\n",
              "      <td>5</td>\n",
              "      <td>20</td>\n",
              "      <td>0</td>\n",
              "      <td>21.230610</td>\n",
              "      <td>0</td>\n",
              "    </tr>\n",
              "    <tr>\n",
              "      <th>4</th>\n",
              "      <td>0</td>\n",
              "      <td>5</td>\n",
              "      <td>20</td>\n",
              "      <td>0</td>\n",
              "      <td>26.320956</td>\n",
              "      <td>0</td>\n",
              "    </tr>\n",
              "  </tbody>\n",
              "</table>\n",
              "</div>\n",
              "      <button class=\"colab-df-convert\" onclick=\"convertToInteractive('df-13b988ea-746d-47cf-9b73-6d2227898acc')\"\n",
              "              title=\"Convert this dataframe to an interactive table.\"\n",
              "              style=\"display:none;\">\n",
              "        \n",
              "  <svg xmlns=\"http://www.w3.org/2000/svg\" height=\"24px\"viewBox=\"0 0 24 24\"\n",
              "       width=\"24px\">\n",
              "    <path d=\"M0 0h24v24H0V0z\" fill=\"none\"/>\n",
              "    <path d=\"M18.56 5.44l.94 2.06.94-2.06 2.06-.94-2.06-.94-.94-2.06-.94 2.06-2.06.94zm-11 1L8.5 8.5l.94-2.06 2.06-.94-2.06-.94L8.5 2.5l-.94 2.06-2.06.94zm10 10l.94 2.06.94-2.06 2.06-.94-2.06-.94-.94-2.06-.94 2.06-2.06.94z\"/><path d=\"M17.41 7.96l-1.37-1.37c-.4-.4-.92-.59-1.43-.59-.52 0-1.04.2-1.43.59L10.3 9.45l-7.72 7.72c-.78.78-.78 2.05 0 2.83L4 21.41c.39.39.9.59 1.41.59.51 0 1.02-.2 1.41-.59l7.78-7.78 2.81-2.81c.8-.78.8-2.07 0-2.86zM5.41 20L4 18.59l7.72-7.72 1.47 1.35L5.41 20z\"/>\n",
              "  </svg>\n",
              "      </button>\n",
              "      \n",
              "  <style>\n",
              "    .colab-df-container {\n",
              "      display:flex;\n",
              "      flex-wrap:wrap;\n",
              "      gap: 12px;\n",
              "    }\n",
              "\n",
              "    .colab-df-convert {\n",
              "      background-color: #E8F0FE;\n",
              "      border: none;\n",
              "      border-radius: 50%;\n",
              "      cursor: pointer;\n",
              "      display: none;\n",
              "      fill: #1967D2;\n",
              "      height: 32px;\n",
              "      padding: 0 0 0 0;\n",
              "      width: 32px;\n",
              "    }\n",
              "\n",
              "    .colab-df-convert:hover {\n",
              "      background-color: #E2EBFA;\n",
              "      box-shadow: 0px 1px 2px rgba(60, 64, 67, 0.3), 0px 1px 3px 1px rgba(60, 64, 67, 0.15);\n",
              "      fill: #174EA6;\n",
              "    }\n",
              "\n",
              "    [theme=dark] .colab-df-convert {\n",
              "      background-color: #3B4455;\n",
              "      fill: #D2E3FC;\n",
              "    }\n",
              "\n",
              "    [theme=dark] .colab-df-convert:hover {\n",
              "      background-color: #434B5C;\n",
              "      box-shadow: 0px 1px 3px 1px rgba(0, 0, 0, 0.15);\n",
              "      filter: drop-shadow(0px 1px 2px rgba(0, 0, 0, 0.3));\n",
              "      fill: #FFFFFF;\n",
              "    }\n",
              "  </style>\n",
              "\n",
              "      <script>\n",
              "        const buttonEl =\n",
              "          document.querySelector('#df-13b988ea-746d-47cf-9b73-6d2227898acc button.colab-df-convert');\n",
              "        buttonEl.style.display =\n",
              "          google.colab.kernel.accessAllowed ? 'block' : 'none';\n",
              "\n",
              "        async function convertToInteractive(key) {\n",
              "          const element = document.querySelector('#df-13b988ea-746d-47cf-9b73-6d2227898acc');\n",
              "          const dataTable =\n",
              "            await google.colab.kernel.invokeFunction('convertToInteractive',\n",
              "                                                     [key], {});\n",
              "          if (!dataTable) return;\n",
              "\n",
              "          const docLinkHtml = 'Like what you see? Visit the ' +\n",
              "            '<a target=\"_blank\" href=https://colab.research.google.com/notebooks/data_table.ipynb>data table notebook</a>'\n",
              "            + ' to learn more about interactive tables.';\n",
              "          element.innerHTML = '';\n",
              "          dataTable['output_type'] = 'display_data';\n",
              "          await google.colab.output.renderOutput(dataTable, element);\n",
              "          const docLink = document.createElement('div');\n",
              "          docLink.innerHTML = docLinkHtml;\n",
              "          element.appendChild(docLink);\n",
              "        }\n",
              "      </script>\n",
              "    </div>\n",
              "  </div>\n",
              "  "
            ]
          },
          "metadata": {},
          "execution_count": 9
        }
      ]
    },
    {
      "cell_type": "markdown",
      "source": [
        "### Adding Extra Features"
      ],
      "metadata": {
        "id": "jN1NfZ-Qr-Mz"
      }
    },
    {
      "cell_type": "code",
      "source": [
        "def create_new_feat(df):\n",
        "    df['cross']= df['u_in'] * df['u_out']\n",
        "    df['cross2']= df['time_step'] * df['u_out']\n",
        "    df['area'] = df['time_step'] * df['u_in']\n",
        "    df['area'] = df.groupby('breath_id')['area'].cumsum()\n",
        "    df['time_step_cumsum'] = df.groupby(['breath_id'])['time_step'].cumsum()\n",
        "    df['u_in_cumsum'] = (df['u_in']).groupby(df['breath_id']).cumsum()\n",
        "    #print(\"Step-1...Completed\")\n",
        "\n",
        "    df['u_in_lag1'] = df.groupby('breath_id')['u_in'].shift(1)\n",
        "    df['u_out_lag1'] = df.groupby('breath_id')['u_out'].shift(1)\n",
        "    df['u_in_lag_back1'] = df.groupby('breath_id')['u_in'].shift(-1)\n",
        "    df['u_out_lag_back1'] = df.groupby('breath_id')['u_out'].shift(-1)\n",
        "    df['u_in_lag2'] = df.groupby('breath_id')['u_in'].shift(2)\n",
        "    df['u_out_lag2'] = df.groupby('breath_id')['u_out'].shift(2)\n",
        "    df['u_in_lag_back2'] = df.groupby('breath_id')['u_in'].shift(-2)\n",
        "    df['u_out_lag_back2'] = df.groupby('breath_id')['u_out'].shift(-2)\n",
        "    df['u_in_lag3'] = df.groupby('breath_id')['u_in'].shift(3)\n",
        "    df['u_out_lag3'] = df.groupby('breath_id')['u_out'].shift(3)\n",
        "    df['u_in_lag_back3'] = df.groupby('breath_id')['u_in'].shift(-3)\n",
        "    df['u_out_lag_back3'] = df.groupby('breath_id')['u_out'].shift(-3)\n",
        "    df['u_in_lag4'] = df.groupby('breath_id')['u_in'].shift(4)\n",
        "    df['u_out_lag4'] = df.groupby('breath_id')['u_out'].shift(4)\n",
        "    df['u_in_lag_back4'] = df.groupby('breath_id')['u_in'].shift(-4)\n",
        "    df['u_out_lag_back4'] = df.groupby('breath_id')['u_out'].shift(-4)\n",
        "    df = df.fillna(0)\n",
        "    #print(\"Step-2...Completed\")\n",
        "\n",
        "    df['breath_id__u_in__max'] = df.groupby(['breath_id'])['u_in'].transform('max')\n",
        "    df['breath_id__u_in__mean'] = df.groupby(['breath_id'])['u_in'].transform('mean')\n",
        "    df['breath_id__u_in__diffmax'] = df.groupby(['breath_id'])['u_in'].transform('max') - df['u_in']\n",
        "    df['breath_id__u_in__diffmean'] = df.groupby(['breath_id'])['u_in'].transform('mean') - df['u_in']\n",
        "    #print(\"Step-3...Completed\")\n",
        "\n",
        "    df['u_in_diff1'] = df['u_in'] - df['u_in_lag1']\n",
        "    df['u_out_diff1'] = df['u_out'] - df['u_out_lag1']\n",
        "    df['u_in_diff2'] = df['u_in'] - df['u_in_lag2']\n",
        "    df['u_out_diff2'] = df['u_out'] - df['u_out_lag2']\n",
        "    df['u_in_diff3'] = df['u_in'] - df['u_in_lag3']\n",
        "    df['u_out_diff3'] = df['u_out'] - df['u_out_lag3']\n",
        "    df['u_in_diff4'] = df['u_in'] - df['u_in_lag4']\n",
        "    df['u_out_diff4'] = df['u_out'] - df['u_out_lag4']\n",
        "    #print(\"Step-4...Completed\")\n",
        "\n",
        "    df['one'] = 1\n",
        "    df['count'] = (df['one']).groupby(df['breath_id']).cumsum()\n",
        "    df['u_in_cummean'] =df['u_in_cumsum'] /df['count']\n",
        "\n",
        "    df['breath_id_lag']=df['breath_id'].shift(1).fillna(0)\n",
        "    df['breath_id_lag2']=df['breath_id'].shift(2).fillna(0)\n",
        "    df['breath_id_lagsame']=np.select([df['breath_id_lag']==df['breath_id']],[1],0)\n",
        "    df['breath_id_lag2same']=np.select([df['breath_id_lag2']==df['breath_id']],[1],0)\n",
        "    df['breath_id__u_in_lag'] = df['u_in'].shift(1).fillna(0)\n",
        "    df['breath_id__u_in_lag'] = df['breath_id__u_in_lag'] * df['breath_id_lagsame']\n",
        "    df['breath_id__u_in_lag2'] = df['u_in'].shift(2).fillna(0)\n",
        "    df['breath_id__u_in_lag2'] = df['breath_id__u_in_lag2'] * df['breath_id_lag2same']\n",
        "    #print(\"Step-5...Completed\")\n",
        "\n",
        "    df['time_step_diff'] = df.groupby('breath_id')['time_step'].diff().fillna(0)\n",
        "    df['ewm_u_in_mean'] = (df\\\n",
        "                           .groupby('breath_id')['u_in']\\\n",
        "                           .ewm(halflife=9)\\\n",
        "                           .mean()\\\n",
        "                           .reset_index(level=0,drop=True))\n",
        "    df[[\"15_in_sum\",\"15_in_min\",\"15_in_max\",\"15_in_mean\"]] = (df\\\n",
        "                                                              .groupby('breath_id')['u_in']\\\n",
        "                                                              .rolling(window=15,min_periods=1)\\\n",
        "                                                              .agg({\"15_in_sum\":\"sum\",\n",
        "                                                                    \"15_in_min\":\"min\",\n",
        "                                                                    \"15_in_max\":\"max\",\n",
        "                                                                    \"15_in_mean\":\"mean\"})\\\n",
        "                                                               .reset_index(level=0,drop=True))\n",
        "    #print(\"Step-6...Completed\")\n",
        "\n",
        "    df['u_in_lagback_diff1'] = df['u_in'] - df['u_in_lag_back1']\n",
        "    df['u_out_lagback_diff1'] = df['u_out'] - df['u_out_lag_back1']\n",
        "    df['u_in_lagback_diff2'] = df['u_in'] - df['u_in_lag_back2']\n",
        "    df['u_out_lagback_diff2'] = df['u_out'] - df['u_out_lag_back2']\n",
        "    #print(\"Step-7...Completed\")\n",
        "\n",
        "    df['R'] = df['R'].astype(str)\n",
        "    df['C'] = df['C'].astype(str)\n",
        "    df['R__C'] = df[\"R\"].astype(str) + '__' + df[\"C\"].astype(str)\n",
        "    df = pd.get_dummies(df)\n",
        "    #print(\"Step-8...Completed\")\n",
        "\n",
        "    return df"
      ],
      "metadata": {
        "execution": {
          "iopub.status.busy": "2021-11-01T06:16:04.927636Z",
          "iopub.execute_input": "2021-11-01T06:16:04.927844Z",
          "iopub.status.idle": "2021-11-01T06:16:04.948482Z",
          "shell.execute_reply.started": "2021-11-01T06:16:04.927821Z",
          "shell.execute_reply": "2021-11-01T06:16:04.947832Z"
        },
        "trusted": true,
        "id": "9srelbcfr-Mz"
      },
      "execution_count": null,
      "outputs": []
    },
    {
      "cell_type": "code",
      "source": [
        "x_train = create_new_feat(x_train)\n",
        "#x_train = x_train.fillna(x_train.min())\n",
        "\n",
        "test = create_new_feat(test)\n",
        "#test = test.fillna(test.min())"
      ],
      "metadata": {
        "execution": {
          "iopub.status.busy": "2021-11-01T06:16:04.950352Z",
          "iopub.execute_input": "2021-11-01T06:16:04.951201Z",
          "iopub.status.idle": "2021-11-01T06:17:47.879989Z",
          "shell.execute_reply.started": "2021-11-01T06:16:04.951162Z",
          "shell.execute_reply": "2021-11-01T06:17:47.878977Z"
        },
        "trusted": true,
        "id": "o6ZsMym-r-M2"
      },
      "execution_count": null,
      "outputs": []
    },
    {
      "cell_type": "code",
      "source": [
        "t = check(x_train)\n",
        "print(\"Numerical columns: \",t[0])\n",
        "print(\"\\nCategorical columns: \",t[1])"
      ],
      "metadata": {
        "execution": {
          "iopub.status.busy": "2021-11-01T06:17:47.881245Z",
          "iopub.execute_input": "2021-11-01T06:17:47.881461Z",
          "iopub.status.idle": "2021-11-01T06:18:17.573677Z",
          "shell.execute_reply.started": "2021-11-01T06:17:47.881436Z",
          "shell.execute_reply": "2021-11-01T06:18:17.573079Z"
        },
        "trusted": true,
        "id": "yNU10X9xr-M2"
      },
      "execution_count": null,
      "outputs": []
    },
    {
      "cell_type": "code",
      "source": [
        "x_train = x_train.drop(['breath_id','one','count','breath_id_lag','breath_id_lag2','breath_id_lagsame','breath_id_lag2same'],axis=1)\n",
        "\n",
        "test = test.drop(['breath_id','one','count','breath_id_lag','breath_id_lag2','breath_id_lagsame','breath_id_lag2same'],axis=1)\n",
        "\n",
        "print(f\"Train: {x_train.shape} \\nTest: {test.shape}\")"
      ],
      "metadata": {
        "execution": {
          "iopub.status.busy": "2021-11-01T06:18:17.57498Z",
          "iopub.execute_input": "2021-11-01T06:18:17.575543Z",
          "iopub.status.idle": "2021-11-01T06:18:22.370993Z",
          "shell.execute_reply.started": "2021-11-01T06:18:17.575512Z",
          "shell.execute_reply": "2021-11-01T06:18:22.370045Z"
        },
        "trusted": true,
        "id": "UnFPN_l2r-M3"
      },
      "execution_count": null,
      "outputs": []
    },
    {
      "cell_type": "markdown",
      "source": [
        "### Normalize the Data using Min Max Scalar"
      ],
      "metadata": {
        "id": "T0Hos7Ytr-M3"
      }
    },
    {
      "cell_type": "code",
      "source": [
        "scaler1 = RobustScaler()\n",
        "scaler2 = RobustScaler()\n",
        "scaler3 = RobustScaler()\n",
        "\n",
        "x_train = scaler1.fit_transform(x_train)\n",
        "test = scaler3.fit_transform(test)\n",
        "y_train = scaler2.fit_transform(y_train.values.reshape(-1,1))"
      ],
      "metadata": {
        "execution": {
          "iopub.status.busy": "2021-11-01T06:18:22.372635Z",
          "iopub.execute_input": "2021-11-01T06:18:22.373162Z",
          "iopub.status.idle": "2021-11-01T06:18:40.521455Z",
          "shell.execute_reply.started": "2021-11-01T06:18:22.373118Z",
          "shell.execute_reply": "2021-11-01T06:18:40.520395Z"
        },
        "trusted": true,
        "id": "sYd3e0mZr-M3"
      },
      "execution_count": null,
      "outputs": []
    },
    {
      "cell_type": "code",
      "source": [
        "x_train = x_train.reshape(-1,1,64)\n",
        "test = test.reshape(-1,1,64)\n",
        "y_train = y_train.reshape(-1,1,1)"
      ],
      "metadata": {
        "execution": {
          "iopub.status.busy": "2021-11-01T06:18:40.522793Z",
          "iopub.execute_input": "2021-11-01T06:18:40.523113Z",
          "iopub.status.idle": "2021-11-01T06:18:40.527928Z",
          "shell.execute_reply.started": "2021-11-01T06:18:40.52307Z",
          "shell.execute_reply": "2021-11-01T06:18:40.526675Z"
        },
        "trusted": true,
        "id": "a-eniBNJr-M4"
      },
      "execution_count": null,
      "outputs": []
    },
    {
      "cell_type": "markdown",
      "source": [
        "### Create and fit the LSTM network"
      ],
      "metadata": {
        "id": "a92tMqYHr-M4"
      }
    },
    {
      "cell_type": "code",
      "source": [
        "model = Sequential()\n",
        "model.add(LSTM(150,input_shape=(1,64),return_sequences=True))\n",
        "model.add(LSTM(100,return_sequences=True,input_shape=(1,64)))\n",
        "model.add(LSTM(64,return_sequences=True))\n",
        "model.add(Dense(16,activation='selu'))\n",
        "model.add(Dense(1))\n",
        "model.summary()\n",
        "\n",
        "model.compile(loss='mae',optimizer='adam')"
      ],
      "metadata": {
        "execution": {
          "iopub.status.busy": "2021-11-01T06:29:11.738444Z",
          "iopub.execute_input": "2021-11-01T06:29:11.738758Z",
          "iopub.status.idle": "2021-11-01T06:29:12.450633Z",
          "shell.execute_reply.started": "2021-11-01T06:29:11.738725Z",
          "shell.execute_reply": "2021-11-01T06:29:12.449739Z"
        },
        "trusted": true,
        "id": "OLX0lW8sr-M5"
      },
      "execution_count": null,
      "outputs": []
    },
    {
      "cell_type": "code",
      "source": [
        "#epoch=300\n",
        "earlystopping = callbacks.EarlyStopping(monitor =\"val_loss\",mode =\"min\",patience = 3,restore_best_weights = True)\n",
        "model.fit(x_train,y_train,epochs = 50,batch_size = 512,callbacks =[earlystopping])"
      ],
      "metadata": {
        "execution": {
          "iopub.status.busy": "2021-11-01T06:43:10.912784Z",
          "iopub.execute_input": "2021-11-01T06:43:10.913359Z",
          "iopub.status.idle": "2021-11-01T06:43:37.955186Z",
          "shell.execute_reply.started": "2021-11-01T06:43:10.913323Z",
          "shell.execute_reply": "2021-11-01T06:43:37.95408Z"
        },
        "trusted": true,
        "id": "l0gejCkhr-M5"
      },
      "execution_count": null,
      "outputs": []
    },
    {
      "cell_type": "code",
      "source": [
        "y_test = model.predict(test)"
      ],
      "metadata": {
        "execution": {
          "iopub.status.busy": "2021-11-01T06:33:05.561167Z",
          "iopub.execute_input": "2021-11-01T06:33:05.561643Z",
          "iopub.status.idle": "2021-11-01T06:36:30.309959Z",
          "shell.execute_reply.started": "2021-11-01T06:33:05.561609Z",
          "shell.execute_reply": "2021-11-01T06:36:30.308734Z"
        },
        "trusted": true,
        "id": "XUJgL766r-M5"
      },
      "execution_count": null,
      "outputs": []
    },
    {
      "cell_type": "code",
      "source": [
        "test_y = scaler2.inverse_transform(y_test.reshape(-1,1))\n",
        "y_test.shape"
      ],
      "metadata": {
        "execution": {
          "iopub.status.busy": "2021-11-01T06:39:11.482377Z",
          "iopub.execute_input": "2021-11-01T06:39:11.483222Z",
          "iopub.status.idle": "2021-11-01T06:39:11.521786Z",
          "shell.execute_reply.started": "2021-11-01T06:39:11.483175Z",
          "shell.execute_reply": "2021-11-01T06:39:11.521042Z"
        },
        "trusted": true,
        "id": "4uuD7_Elr-M6"
      },
      "execution_count": null,
      "outputs": []
    },
    {
      "cell_type": "code",
      "source": [
        "y_train.shape"
      ],
      "metadata": {
        "execution": {
          "iopub.status.busy": "2021-11-01T06:39:31.577725Z",
          "iopub.execute_input": "2021-11-01T06:39:31.5783Z",
          "iopub.status.idle": "2021-11-01T06:39:31.58344Z",
          "shell.execute_reply.started": "2021-11-01T06:39:31.578266Z",
          "shell.execute_reply": "2021-11-01T06:39:31.58266Z"
        },
        "trusted": true,
        "id": "kMgKZF7pr-M7"
      },
      "execution_count": null,
      "outputs": []
    },
    {
      "cell_type": "code",
      "source": [
        "plot_model(\n",
        "    model,\n",
        "    to_file='Model.png',\n",
        "    show_shapes=True,\n",
        "    show_layer_names=True\n",
        ")"
      ],
      "metadata": {
        "execution": {
          "iopub.status.busy": "2021-11-01T06:40:45.053797Z",
          "iopub.execute_input": "2021-11-01T06:40:45.054116Z",
          "iopub.status.idle": "2021-11-01T06:40:46.256531Z",
          "shell.execute_reply.started": "2021-11-01T06:40:45.054079Z",
          "shell.execute_reply": "2021-11-01T06:40:46.255757Z"
        },
        "trusted": true,
        "id": "kR3rBE1lr-M7"
      },
      "execution_count": null,
      "outputs": []
    },
    {
      "cell_type": "code",
      "source": [
        "prediction = pd.concat([id,pd.DataFrame(test_y)],axis=1)\n",
        "prediction.columns=['id','pressure']\n",
        "prediction.to_csv(\"Keras_Ann.csv\",index=False)"
      ],
      "metadata": {
        "execution": {
          "iopub.status.busy": "2021-11-01T06:41:08.902419Z",
          "iopub.execute_input": "2021-11-01T06:41:08.903355Z",
          "iopub.status.idle": "2021-11-01T06:41:16.343055Z",
          "shell.execute_reply.started": "2021-11-01T06:41:08.903309Z",
          "shell.execute_reply": "2021-11-01T06:41:16.342102Z"
        },
        "trusted": true,
        "id": "pbaloTg3r-M8"
      },
      "execution_count": null,
      "outputs": []
    },
    {
      "cell_type": "code",
      "source": [
        "prediction.head()"
      ],
      "metadata": {
        "execution": {
          "iopub.status.busy": "2021-11-01T06:42:46.693Z",
          "iopub.execute_input": "2021-11-01T06:42:46.693354Z",
          "iopub.status.idle": "2021-11-01T06:42:46.704943Z",
          "shell.execute_reply.started": "2021-11-01T06:42:46.693318Z",
          "shell.execute_reply": "2021-11-01T06:42:46.704078Z"
        },
        "trusted": true,
        "id": "X-LO9ikur-M8"
      },
      "execution_count": null,
      "outputs": []
    }
  ]
}